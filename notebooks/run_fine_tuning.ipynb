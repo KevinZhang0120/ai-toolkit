{
 "cells": [
  {
   "cell_type": "code",
   "execution_count": 0,
   "metadata": {
    "application/vnd.databricks.v1+cell": {
     "cellMetadata": {},
     "inputWidgets": {},
     "nuid": "972aab19-3dc3-47ed-865b-262dbba92f0e",
     "showTitle": false,
     "tableResultSettingsMap": {},
     "title": ""
    }
   },
   "outputs": [],
   "source": [
    "!pip install -r /Workspace/Users/kevin.zhang@vgw.co/AI_image_anomaly_detection/ai-toolkit/requirements.txt\n",
    "!pip install diffusers\n",
    "!pip install dwpose\n",
    "!pip install -U accelerate\n",
    "!pip install -U transformers\n",
    "!pip install protobuf==3.20.0\n",
    "\n",
    "dbutils.library.restartPython()"
   ]
  },
  {
   "cell_type": "code",
   "execution_count": 0,
   "metadata": {
    "application/vnd.databricks.v1+cell": {
     "cellMetadata": {},
     "inputWidgets": {},
     "nuid": "8b2aef53-e323-489f-bc8c-c1446f2dd7ce",
     "showTitle": false,
     "tableResultSettingsMap": {},
     "title": ""
    }
   },
   "outputs": [],
   "source": [
    "from huggingface_hub import login\n",
    "\n",
    "login(token = 'your DB token')"
   ]
  },
  {
   "cell_type": "code",
   "execution_count": 0,
   "metadata": {
    "application/vnd.databricks.v1+cell": {
     "cellMetadata": {},
     "inputWidgets": {},
     "nuid": "84221ccc-f06a-4ff0-a97c-197b80370bf4",
     "showTitle": false,
     "tableResultSettingsMap": {},
     "title": ""
    }
   },
   "outputs": [],
   "source": [
    "import os\n",
    "import sys\n",
    "sys.path.append('/Workspace/Users/kevin.zhang@vgw.co/AI_image_anomaly_detection/ai-toolkit')\n",
    "from toolkit.job import run_job\n",
    "from collections import OrderedDict\n",
    "from PIL import Image\n",
    "import os\n",
    "os.environ[\"HF_HUB_ENABLE_HF_TRANSFER\"] = \"1\""
   ]
  },
  {
   "cell_type": "code",
   "execution_count": 0,
   "metadata": {
    "application/vnd.databricks.v1+cell": {
     "cellMetadata": {},
     "inputWidgets": {},
     "nuid": "4df920e6-301a-4cc6-a36e-f3835398135d",
     "showTitle": false,
     "tableResultSettingsMap": {},
     "title": ""
    }
   },
   "outputs": [],
   "source": [
    "from huggingface_hub import login\n",
    "\n",
    "login(token = 'your DB token')"
   ]
  },
  {
   "cell_type": "code",
   "execution_count": 0,
   "metadata": {
    "application/vnd.databricks.v1+cell": {
     "cellMetadata": {},
     "inputWidgets": {},
     "nuid": "287f23f5-a72a-4be9-b58f-b666125a147a",
     "showTitle": false,
     "tableResultSettingsMap": {},
     "title": ""
    }
   },
   "outputs": [],
   "source": [
    "import pandas as pd\n",
    "\n",
    "raw_data=pd.read_csv('your csv file with image file names and expected text').dropna()\n",
    "raw_data['idx']=[f.split('-')[-1][:-3] for f in raw_data['filename']]\n",
    "raw_data"
   ]
  },
  {
   "cell_type": "code",
   "execution_count": 0,
   "metadata": {
    "application/vnd.databricks.v1+cell": {
     "cellMetadata": {},
     "inputWidgets": {},
     "nuid": "6ae38f47-f857-4430-a36f-d0b4b63946e5",
     "showTitle": false,
     "tableResultSettingsMap": {},
     "title": ""
    }
   },
   "outputs": [],
   "source": [
    "import os\n",
    "from PIL import Image\n",
    "import shutil\n",
    "import pandas as pd\n",
    "\n",
    "data_list=[]\n",
    "for img in os.listdir('your training_image path'):\n",
    "    if img.find('ocr')>=0:\n",
    "        data_list.append(img.split('-')[-1][:-3])"
   ]
  },
  {
   "cell_type": "code",
   "execution_count": 0,
   "metadata": {
    "application/vnd.databricks.v1+cell": {
     "cellMetadata": {},
     "inputWidgets": {},
     "nuid": "ebc6e5f3-a380-45f6-aacb-575867815053",
     "showTitle": false,
     "tableResultSettingsMap": {},
     "title": ""
    }
   },
   "outputs": [],
   "source": [
    "data_list_df=pd.DataFrame({'idx': data_list}, index=range(len(data_list)))\n",
    "data_list_df.shape"
   ]
  },
  {
   "cell_type": "code",
   "execution_count": 0,
   "metadata": {
    "application/vnd.databricks.v1+cell": {
     "cellMetadata": {},
     "inputWidgets": {},
     "nuid": "babd62e3-0729-460f-ad5e-2d6bad91fea8",
     "showTitle": false,
     "tableResultSettingsMap": {},
     "title": ""
    }
   },
   "outputs": [],
   "source": [
    "df=raw_data.merge(data_list_df, how='inner')\n",
    "df"
   ]
  },
  {
   "cell_type": "code",
   "execution_count": 0,
   "metadata": {
    "application/vnd.databricks.v1+cell": {
     "cellMetadata": {},
     "inputWidgets": {},
     "nuid": "bd63ae07-cecd-463d-ba27-3ee22750f4b9",
     "showTitle": false,
     "tableResultSettingsMap": {},
     "title": ""
    }
   },
   "outputs": [],
   "source": [
    "df['prompt'] = ['A person is holding a note in front of his face and the note says \"' + e + '\"'  for e in df.expected]\n",
    "df['prompt'].tolist()[0]"
   ]
  },
  {
   "cell_type": "code",
   "execution_count": 0,
   "metadata": {
    "application/vnd.databricks.v1+cell": {
     "cellMetadata": {},
     "inputWidgets": {},
     "nuid": "f34c0446-578d-408a-9b49-ced4640ffe36",
     "showTitle": false,
     "tableResultSettingsMap": {},
     "title": ""
    }
   },
   "outputs": [],
   "source": [
    "df.to_csv('flux_finetuning_input.csv', index=False)"
   ]
  },
  {
   "cell_type": "code",
   "execution_count": 0,
   "metadata": {
    "application/vnd.databricks.v1+cell": {
     "cellMetadata": {},
     "inputWidgets": {},
     "nuid": "fd004326-aa34-4837-afde-2923796b3d1b",
     "showTitle": false,
     "tableResultSettingsMap": {},
     "title": ""
    }
   },
   "outputs": [],
   "source": [
    "for d in df[['filename', 'prompt']].values.tolist():\n",
    "    with open('/Volumes/dsp_lab/dsp_sandbox_tbls/data/ordered_files/' + d[0][:-4] + \".txt\", \"w\") as f:\n",
    "        f.write(d[1])"
   ]
  },
  {
   "cell_type": "code",
   "execution_count": 0,
   "metadata": {
    "application/vnd.databricks.v1+cell": {
     "cellMetadata": {},
     "inputWidgets": {},
     "nuid": "a62da410-463e-41bb-bc48-cbbd447e5598",
     "showTitle": false,
     "tableResultSettingsMap": {},
     "title": ""
    }
   },
   "outputs": [],
   "source": [
    "%sh\n",
    "accelerate launch --num_processes=6 /Workspace/Users/kevin.zhang@vgw.co/AI_image_anomaly_detection/ai-toolkit/run_job.py"
   ]
  },
  {
   "cell_type": "code",
   "execution_count": 0,
   "metadata": {
    "application/vnd.databricks.v1+cell": {
     "cellMetadata": {},
     "inputWidgets": {},
     "nuid": "1df5941b-898c-4eeb-b87c-bd9303fdd6d0",
     "showTitle": false,
     "tableResultSettingsMap": {},
     "title": ""
    }
   },
   "outputs": [],
   "source": [
    "from diffusers import AutoPipelineForText2Image, FluxPipeline\n",
    "import torch\n",
    "\n",
    "pipe = FluxPipeline.from_pretrained(\"black-forest-labs/FLUX.1-dev\", torch_dtype=torch.bfloat16, device_map=\"balanced\")"
   ]
  },
  {
   "cell_type": "code",
   "execution_count": 0,
   "metadata": {
    "application/vnd.databricks.v1+cell": {
     "cellMetadata": {},
     "inputWidgets": {},
     "nuid": "773a9667-f64c-413d-ac65-a9cab38dfb80",
     "showTitle": false,
     "tableResultSettingsMap": {},
     "title": ""
    }
   },
   "outputs": [],
   "source": [
    "pipe.load_lora_weights('/Volumes/dsp_lab/dsp_sandbox_tbls/data/flux_finetuning_output_3/my_first_flux_lora_v1', weight_name='my_first_flux_lora_v1.safetensors', adapter_name='lora')\n",
    "pipe.set_adapters('lora')\n",
    "pipe.fuse_lora(adapter_names=['lora'])"
   ]
  },
  {
   "cell_type": "code",
   "execution_count": 0,
   "metadata": {
    "application/vnd.databricks.v1+cell": {
     "cellMetadata": {},
     "inputWidgets": {},
     "nuid": "9aed024b-fd88-45f9-a451-f839b9a818ef",
     "showTitle": false,
     "tableResultSettingsMap": {},
     "title": ""
    }
   },
   "outputs": [],
   "source": [
    "prompt = 'A person is holding a note in front of his face and the note says \"7821731022696 seven eight two one seven three one zero two two six nine six I wish to receive sweep coins to participate in the promotion offered by Vanilla By submitting this request, I hereby declare that I have read, understood and agree to be bound by Vanilla Terms and Conditions and Sweeps rules\"'\n",
    "image = pipe(\n",
    "    prompt,\n",
    "    height=512,\n",
    "    width=512,\n",
    "    guidance_scale=50,\n",
    "    num_inference_steps=300,\n",
    "    max_sequence_length=512,\n",
    "    # generator=torch.Generator(\"cuda\").manual_seed(0)\n",
    ").images[0]\n",
    "image"
   ]
  }
 ],
 "metadata": {
  "application/vnd.databricks.v1+notebook": {
   "computePreferences": null,
   "dashboards": [],
   "environmentMetadata": {
    "base_environment": "",
    "environment_version": "2"
   },
   "inputWidgetPreferences": null,
   "language": "python",
   "notebookMetadata": {
    "pythonIndentUnit": 4
   },
   "notebookName": "run_fine_tuning",
   "widgets": {}
  },
  "language_info": {
   "name": "python"
  }
 },
 "nbformat": 4,
 "nbformat_minor": 0
}
